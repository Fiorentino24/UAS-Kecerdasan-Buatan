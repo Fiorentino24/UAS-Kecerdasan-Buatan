Berikut adalah analisis setiap baris dari kode program di atas:

1. **Import Library dan Mount Google Drive:**
   ```python
   from google.colab import drive
   drive.mount('/content/drive')
   ```
   Mengimport library Google Colab untuk mengakses Google Drive dan melakukan mount drive.

2. **Unzip Dataset:**
   ```python
   !unzip /content/drive/MyDrive/TUBESKB/dataset.zip -d /content/
   ```
   Meng-unzip dataset dari Google Drive ke direktori `/content/`.

3. **Import Library dan Modules:**
   ```python
   from skimage.feature import hog
   import cv2
   import matplotlib.pyplot as plt
   import numpy as np
   from skimage.feature import peak_local_max
   from skimage.segmentation import watershed
   from scipy import ndimage
   from sklearn.model_selection import train_test_split
   from sklearn.svm import SVC
   from skimage.feature import hog
   from sklearn.metrics import accuracy_score
   import os
   ```
   Mengimport berbagai library dan modules yang akan digunakan, seperti OpenCV, scikit-image, matplotlib, NumPy, dan lainnya.

4. **Definisi Fungsi Ekstraksi HOG:**
   ```python
   def extract_hog(image):
       fd, hog_image = hog(image, orientations=8, pixels_per_cell=(16, 16), cells_per_block=(1, 1), visualize=True, channel_axis=-1)
       return fd, hog_image
   ```
   Membuat fungsi untuk ekstraksi fitur Histogram of Oriented Gradients (HOG) dari suatu gambar.

5. **Definisi Fungsi Plot Gambar dengan Kelas:**
   ```python
   def plot_image_with_class(image, title, class_name):
       plt.imshow(cv2.cvtColor(image, cv2.COLOR_BGR2RGB))
       plt.title(f"{title} - Class: {class_name}")
       plt.axis("off")
       plt.show()
   ```
   Membuat fungsi untuk menampilkan gambar beserta kelasnya.

6. **Load dan Ekstraksi Fitur HOG dari Gambar:**
   ```python
   image_path = "/content/dataset/train/Fiorentino.jpg"
   image = cv2.imread(image_path)
   hog_features, hog_image = extract_hog(image)
   image_class = os.path.splitext(os.path.basename(image_path))[0]
   plot_image_with_class(image, "Image", image_class)
   plt.imshow(hog_image, cmap="gray")
   plt.title("HOG")
   plt.axis("off")
   plt.show()
   ```
   Memuat gambar, mengekstraksi fitur HOG, dan menampilkan gambar beserta kelasnya serta fitur HOG.

7. **Load Dataset MNIST:**
   ```python
   mnist = fetch_openml('mnist_784')
   X, y = mnist['data'], mnist['target']
   X = X.astype('int')
   y = y.astype('int')
   X = np.array(X)
   y = np.array(y)
   ```
   Memuat dataset MNIST menggunakan `fetch_openml` dari scikit-learn dan melakukan konversi tipe data.

8. **Split Dataset ke dalam Training dan Testing:**
   ```python
   X_train, X_test, y_train, y_test = train_test_split(X, y, test_size=0.2, random_state=42)
   ```
   Membagi dataset menjadi data latih (training) dan data uji (testing) menggunakan `train_test_split`.

9. **Ekstraksi Fitur HOG untuk Dataset MNIST:**
   ```python
   X_train_hog = extract_hog_features(X_train)
   X_test_hog = extract_hog_features(X_test)
   ```
   Menggunakan fungsi `extract_hog_features` untuk mengekstraksi fitur HOG dari dataset MNIST.

10. **Contoh: Model menggunakan SVM:**
    ```python
    svm_model = SVC(kernel='linear')
    svm_model.fit(X_train_hog, y_train)
    svm_predictions = svm_model.predict(X_test_hog)
    svm_accuracy = accuracy_score(y_test, svm_predictions)
    print(f"SVM Accuracy: {svm_accuracy}")
    ```
    Membuat model Support Vector Machine (SVM) dengan kernel linear, melatih model, membuat prediksi, dan mengukur akurasi model menggunakan SVM. Hasil akurasi ditampilkan.
